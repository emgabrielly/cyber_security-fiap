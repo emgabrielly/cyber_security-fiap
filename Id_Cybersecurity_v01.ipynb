{
  "nbformat": 4,
  "nbformat_minor": 0,
  "metadata": {
    "colab": {
      "name": "Id - Cybersecurity01.ipynb",
      "provenance": [],
      "authorship_tag": "ABX9TyN60Acx3xj9txBxip212s0K",
      "include_colab_link": true
    },
    "kernelspec": {
      "name": "python3",
      "display_name": "Python 3"
    },
    "language_info": {
      "name": "python"
    }
  },
  "cells": [
    {
      "cell_type": "markdown",
      "metadata": {
        "id": "view-in-github",
        "colab_type": "text"
      },
      "source": [
        "<a href=\"https://colab.research.google.com/github/emgabrielly/cyber_security-fiap/blob/main/Id_Cybersecurity_v01.ipynb\" target=\"_parent\"><img src=\"https://colab.research.google.com/assets/colab-badge.svg\" alt=\"Open In Colab\"/></a>"
      ]
    },
    {
      "cell_type": "markdown",
      "source": [
        "# *Detecção de comportamento agressivo e ofensivo dentro de jogos*"
      ],
      "metadata": {
        "id": "PlcE3bPIFFGg"
      }
    },
    {
      "cell_type": "code",
      "source": [
        "import re"
      ],
      "metadata": {
        "id": "lMF3PQVF4dbg"
      },
      "execution_count": null,
      "outputs": []
    },
    {
      "cell_type": "code",
      "source": [
        "# xingamentos, palavrões, ameaças, macaco, escravo, , mulherzinha, viadinho, discursos de ódio, discursos xenofóbicos, cyberbullying, machismo, racismo, homofobia, referência à animais."
      ],
      "metadata": {
        "id": "_JE8CapvFMkb"
      },
      "execution_count": null,
      "outputs": []
    },
    {
      "cell_type": "code",
      "source": [
        "lista = [\"xingamentos\", \"burrão\", \"palavrões\", \"gay\",\"ameaças\", \"macaco\", \"escravo\", \"mulherzinha\", \"viadinho\", \"discursos de ódio\", \"xenofobia\", \"cyberbullying\", \"machismo\", \"racismo\", \"homofobia\", \"animal\", \"comportamento agressivo\", \"bosta\", \"lixo\", \"puta\", \"otário\", \"mula\", \"burro\", \"imbecil\", \"lezado\", \"caralho\", \"porra\", \"anta\", \"preconceito\",\"vadia\", \"vagabundo\", \"desgraçado\", \"acefalo\"]\n",
        "texto = input()\n",
        "if texto in lista:\n",
        "  print(\"Item proibido\")\n",
        "else:\n",
        "  print(\"Item permitido\")"
      ],
      "metadata": {
        "id": "nbOSHRz3yfk5"
      },
      "execution_count": null,
      "outputs": []
    },
    {
      "cell_type": "code",
      "source": [
        "#biblioteca que ajuda a manipular textos\n",
        "\n",
        "def getMatchRegex(field):\n",
        "  match = re.search('(?i)(xingamentos)|(vaca)|(burrão)|(palavrões)|(gay)|(lixão)|(ameaças)|(macaco)|(escravo)|(mulherzinha)|(jumento)|(caralho)|(pariu)|(cu)|(viadinho)|(discursos de ódio)|(chata)|(chato)|(bocó)|(viado)|(xenofobia)|(cyberbullying)|(machismo)|(racismo)|(homofobia)|(animal)|(comportamento agressivo)|(bosta)|(lixo)|(puta)|(otário)|(mula)|(burro)|(imbecil)|(lezado)|(caralho)|(porra)|(anta)|(preconceito)|(vadia)|(vagabundo)|(desgraçado)|(acefalo)', field.lower())\n",
        "  if match:\n",
        "    print(\"Palavra Apropriada? Não\")\n",
        "  else:\n",
        "    print(\"Palavra Apropriada? Sim\")\n",
        "getMatchRegex(input())"
      ],
      "metadata": {
        "colab": {
          "base_uri": "https://localhost:8080/"
        },
        "id": "BYVU5g076frT",
        "outputId": "63b6c9e5-6011-47e1-8176-632e6d43da0f"
      },
      "execution_count": null,
      "outputs": [
        {
          "output_type": "stream",
          "name": "stdout",
          "text": [
            "me passa o numero da cachorra da tua irma\n",
            "Palavra Apropriada? Sim\n"
          ]
        }
      ]
    },
    {
      "cell_type": "code",
      "source": [
        ""
      ],
      "metadata": {
        "id": "M867x-mq7PF7"
      },
      "execution_count": null,
      "outputs": []
    }
  ]
}